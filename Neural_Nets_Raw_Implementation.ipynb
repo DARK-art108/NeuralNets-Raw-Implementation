{
  "nbformat": 4,
  "nbformat_minor": 0,
  "metadata": {
    "colab": {
      "name": "Neural Nets Raw Implementation.ipynb",
      "provenance": []
    },
    "kernelspec": {
      "name": "python3",
      "display_name": "Python 3"
    }
  },
  "cells": [
    {
      "cell_type": "code",
      "metadata": {
        "id": "9l5bmF2gGV9y",
        "colab_type": "code",
        "colab": {
          "base_uri": "https://localhost:8080/",
          "height": 104
        },
        "outputId": "0cf5bb37-b848-4ed6-a82c-d13c94148e13"
      },
      "source": [
        "!pip install pandas"
      ],
      "execution_count": 99,
      "outputs": [
        {
          "output_type": "stream",
          "text": [
            "Requirement already satisfied: pandas in /usr/local/lib/python3.6/dist-packages (0.23.4)\n",
            "Requirement already satisfied: pytz>=2011k in /usr/local/lib/python3.6/dist-packages (from pandas) (2018.9)\n",
            "Requirement already satisfied: numpy>=1.9.0 in /usr/local/lib/python3.6/dist-packages (from pandas) (1.18.5)\n",
            "Requirement already satisfied: python-dateutil>=2.5.0 in /usr/local/lib/python3.6/dist-packages (from pandas) (2.8.1)\n",
            "Requirement already satisfied: six>=1.5 in /usr/local/lib/python3.6/dist-packages (from python-dateutil>=2.5.0->pandas) (1.15.0)\n"
          ],
          "name": "stdout"
        }
      ]
    },
    {
      "cell_type": "code",
      "metadata": {
        "id": "5zfObQBPx7CM",
        "colab_type": "code",
        "colab": {}
      },
      "source": [
        "import numpy as np\n",
        "import pandas as pd\n",
        "import matplotlib.pyplot as plt\n",
        "import seaborn as sns\n"
      ],
      "execution_count": 100,
      "outputs": []
    },
    {
      "cell_type": "code",
      "metadata": {
        "id": "DWcpxsMnyRSw",
        "colab_type": "code",
        "colab": {
          "base_uri": "https://localhost:8080/",
          "height": 168
        },
        "outputId": "138c829a-c502-4b14-f76b-eebf87674104"
      },
      "source": [
        "AND = pd.DataFrame({'x1': (0,0,1,1), 'x2': (0,1,0,1), 'y': (0,0,0,1)})\n",
        "AND"
      ],
      "execution_count": 101,
      "outputs": [
        {
          "output_type": "execute_result",
          "data": {
            "text/html": [
              "<div>\n",
              "<style scoped>\n",
              "    .dataframe tbody tr th:only-of-type {\n",
              "        vertical-align: middle;\n",
              "    }\n",
              "\n",
              "    .dataframe tbody tr th {\n",
              "        vertical-align: top;\n",
              "    }\n",
              "\n",
              "    .dataframe thead th {\n",
              "        text-align: right;\n",
              "    }\n",
              "</style>\n",
              "<table border=\"1\" class=\"dataframe\">\n",
              "  <thead>\n",
              "    <tr style=\"text-align: right;\">\n",
              "      <th></th>\n",
              "      <th>x1</th>\n",
              "      <th>x2</th>\n",
              "      <th>y</th>\n",
              "    </tr>\n",
              "  </thead>\n",
              "  <tbody>\n",
              "    <tr>\n",
              "      <th>0</th>\n",
              "      <td>0</td>\n",
              "      <td>0</td>\n",
              "      <td>0</td>\n",
              "    </tr>\n",
              "    <tr>\n",
              "      <th>1</th>\n",
              "      <td>0</td>\n",
              "      <td>1</td>\n",
              "      <td>0</td>\n",
              "    </tr>\n",
              "    <tr>\n",
              "      <th>2</th>\n",
              "      <td>1</td>\n",
              "      <td>0</td>\n",
              "      <td>0</td>\n",
              "    </tr>\n",
              "    <tr>\n",
              "      <th>3</th>\n",
              "      <td>1</td>\n",
              "      <td>1</td>\n",
              "      <td>1</td>\n",
              "    </tr>\n",
              "  </tbody>\n",
              "</table>\n",
              "</div>"
            ],
            "text/plain": [
              "   x1  x2  y\n",
              "0   0   0  0\n",
              "1   0   1  0\n",
              "2   1   0  0\n",
              "3   1   1  1"
            ]
          },
          "metadata": {
            "tags": []
          },
          "execution_count": 101
        }
      ]
    },
    {
      "cell_type": "code",
      "metadata": {
        "id": "mdSlZjnezB9u",
        "colab_type": "code",
        "colab": {}
      },
      "source": [
        "w = np.random.randn(3)*1e-4"
      ],
      "execution_count": 102,
      "outputs": []
    },
    {
      "cell_type": "code",
      "metadata": {
        "id": "85umHkoGzTXQ",
        "colab_type": "code",
        "colab": {}
      },
      "source": [
        "g = lambda inputs, weights: np.where(np.dot(inputs, weights)>0, 1, 0)"
      ],
      "execution_count": 103,
      "outputs": []
    },
    {
      "cell_type": "code",
      "metadata": {
        "id": "QtzYiqzO5z3S",
        "colab_type": "code",
        "colab": {
          "base_uri": "https://localhost:8080/",
          "height": 52
        },
        "outputId": "7cacd2c3-8330-4635-abd0-06d3b687eb0d"
      },
      "source": [
        "print(w)\n",
        "w.shape"
      ],
      "execution_count": 104,
      "outputs": [
        {
          "output_type": "stream",
          "text": [
            "[-1.68448223e-04  8.27794127e-05 -4.32228392e-05]\n"
          ],
          "name": "stdout"
        },
        {
          "output_type": "execute_result",
          "data": {
            "text/plain": [
              "(3,)"
            ]
          },
          "metadata": {
            "tags": []
          },
          "execution_count": 104
        }
      ]
    },
    {
      "cell_type": "code",
      "metadata": {
        "id": "uJlfL5vhMUwX",
        "colab_type": "code",
        "colab": {
          "base_uri": "https://localhost:8080/",
          "height": 34
        },
        "outputId": "b7b00061-b019-419c-d596-dc757e96276f"
      },
      "source": [
        "##we are not using the sigmoid becoz the numerator will become very small and and the value tends to zero\n",
        "\n",
        "\"\"\"def sigmoid(inputs,weights):\n",
        "  z = np.dot(inputs,weights)\n",
        "  values = 1/1+np.exp(-z)\n",
        "  return values\"\"\"\n",
        "  "
      ],
      "execution_count": 105,
      "outputs": [
        {
          "output_type": "execute_result",
          "data": {
            "application/vnd.google.colaboratory.intrinsic+json": {
              "type": "string"
            },
            "text/plain": [
              "'def sigmoid(inputs,weights):\\n  z = np.dot(inputs,weights)\\n  values = 1/1+np.exp(-z)\\n  return values'"
            ]
          },
          "metadata": {
            "tags": []
          },
          "execution_count": 105
        }
      ]
    },
    {
      "cell_type": "code",
      "metadata": {
        "id": "uMSsgfsjzztI",
        "colab_type": "code",
        "colab": {}
      },
      "source": [
        "def train(inputs, targets, weights, eta, n_iterations):\n",
        "\n",
        "    # Add the inputs that match the bias node\n",
        "    inputs = np.c_[inputs, -np.ones((len(inputs), 1))]\n",
        "\n",
        "    for n in range(n_iterations):\n",
        "\n",
        "        print(f\"Number of Epocs are {n}\")\n",
        "        print(inputs)\n",
        "        activations = g(inputs, weights)\n",
        "        print(activations)\n",
        "        weights -= eta*np.dot(np.transpose(inputs), activations - targets)\n",
        "        print(f\"Weights are:{weights}\")\n",
        "    return weights\n"
      ],
      "execution_count": 106,
      "outputs": []
    },
    {
      "cell_type": "code",
      "metadata": {
        "id": "knsmQnt2z03g",
        "colab_type": "code",
        "colab": {
          "base_uri": "https://localhost:8080/",
          "height": 1000
        },
        "outputId": "cf57ce3c-769b-4cf8-e1f5-ffbca9a8ee4f"
      },
      "source": [
        "inputs = AND[['x1','x2']]\n",
        "target = AND['y']\n",
        "w = train(inputs, target, w, 0.1, 10)"
      ],
      "execution_count": 107,
      "outputs": [
        {
          "output_type": "stream",
          "text": [
            "Number of Epocs are 0\n",
            "[[ 0.  0. -1.]\n",
            " [ 0.  1. -1.]\n",
            " [ 1.  0. -1.]\n",
            " [ 1.  1. -1.]]\n",
            "[1 1 0 0]\n",
            "Weights are:[9.98315518e-02 8.27794127e-05 9.99567772e-02]\n",
            "Number of Epocs are 1\n",
            "[[ 0.  0. -1.]\n",
            " [ 0.  1. -1.]\n",
            " [ 1.  0. -1.]\n",
            " [ 1.  1. -1.]]\n",
            "[0 0 0 0]\n",
            "Weights are:[ 1.99831552e-01  1.00082779e-01 -4.32228392e-05]\n",
            "Number of Epocs are 2\n",
            "[[ 0.  0. -1.]\n",
            " [ 0.  1. -1.]\n",
            " [ 1.  0. -1.]\n",
            " [ 1.  1. -1.]]\n",
            "[1 1 1 1]\n",
            "Weights are:[9.98315518e-02 8.27794127e-05 2.99956777e-01]\n",
            "Number of Epocs are 3\n",
            "[[ 0.  0. -1.]\n",
            " [ 0.  1. -1.]\n",
            " [ 1.  0. -1.]\n",
            " [ 1.  1. -1.]]\n",
            "[0 0 0 0]\n",
            "Weights are:[0.19983155 0.10008278 0.19995678]\n",
            "Number of Epocs are 4\n",
            "[[ 0.  0. -1.]\n",
            " [ 0.  1. -1.]\n",
            " [ 1.  0. -1.]\n",
            " [ 1.  1. -1.]]\n",
            "[0 0 0 1]\n",
            "Weights are:[0.19983155 0.10008278 0.19995678]\n",
            "Number of Epocs are 5\n",
            "[[ 0.  0. -1.]\n",
            " [ 0.  1. -1.]\n",
            " [ 1.  0. -1.]\n",
            " [ 1.  1. -1.]]\n",
            "[0 0 0 1]\n",
            "Weights are:[0.19983155 0.10008278 0.19995678]\n",
            "Number of Epocs are 6\n",
            "[[ 0.  0. -1.]\n",
            " [ 0.  1. -1.]\n",
            " [ 1.  0. -1.]\n",
            " [ 1.  1. -1.]]\n",
            "[0 0 0 1]\n",
            "Weights are:[0.19983155 0.10008278 0.19995678]\n",
            "Number of Epocs are 7\n",
            "[[ 0.  0. -1.]\n",
            " [ 0.  1. -1.]\n",
            " [ 1.  0. -1.]\n",
            " [ 1.  1. -1.]]\n",
            "[0 0 0 1]\n",
            "Weights are:[0.19983155 0.10008278 0.19995678]\n",
            "Number of Epocs are 8\n",
            "[[ 0.  0. -1.]\n",
            " [ 0.  1. -1.]\n",
            " [ 1.  0. -1.]\n",
            " [ 1.  1. -1.]]\n",
            "[0 0 0 1]\n",
            "Weights are:[0.19983155 0.10008278 0.19995678]\n",
            "Number of Epocs are 9\n",
            "[[ 0.  0. -1.]\n",
            " [ 0.  1. -1.]\n",
            " [ 1.  0. -1.]\n",
            " [ 1.  1. -1.]]\n",
            "[0 0 0 1]\n",
            "Weights are:[0.19983155 0.10008278 0.19995678]\n"
          ],
          "name": "stdout"
        }
      ]
    },
    {
      "cell_type": "code",
      "metadata": {
        "id": "_vRi00hdFCuj",
        "colab_type": "code",
        "colab": {}
      },
      "source": [
        ""
      ],
      "execution_count": 107,
      "outputs": []
    }
  ]
}